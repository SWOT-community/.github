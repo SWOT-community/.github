{
  "cells": [
    {
      "cell_type": "markdown",
      "metadata": {
        "id": "view-in-github",
        "colab_type": "text"
      },
      "source": [
        "<a href=\"https://colab.research.google.com/github/SWOT-community/.github/blob/main/SWOT_L3_LR_SSH_startup_tutorial_AVISO.ipynb\" target=\"_parent\"><img src=\"https://colab.research.google.com/assets/colab-badge.svg\" alt=\"Open In Colab\"/></a>"
      ]
    },
    {
      "cell_type": "markdown",
      "metadata": {
        "id": "F5l9prJtHsMh"
      },
      "source": [
        "# SWOT L3 KaRIn and Nadir Ocean Data Products\n",
        "\n",
        "This tutorial will introduce you to some sample SWOT L3 data products and show you how to download these data from AVISO and perform basic plots using python related libraries.\n",
        "\n",
        "## Tutorial Objectives:\n",
        "- Present SWOT sample L3 data products (Basic and Expert versions)\n",
        "- Show you how to find and visualize SWOT data sets from AVISO FTP server\n",
        "- Download SWOT KaRIn (2D swath) and nadir (along-track) altimetry combined data directly to Google Colab."
      ]
    },
    {
      "cell_type": "markdown",
      "metadata": {
        "id": "bKadLHV08ruY"
      },
      "source": [
        "Start by installing a couple of modules we will need: `condacolab` and `cartopy`"
      ]
    },
    {
      "cell_type": "markdown",
      "source": [
        "## Google Colaboratory\n",
        "\n",
        "We will run this tutorial in [Google Colaboratory](colab.research.google.com). Google Colab is a web-based computational environment in which you can read, write, and execute interactive *notebooks* like the one you are reading. The python code runs on a virtual machine in the cloud, so you don't need to install python on your local machine.\n",
        "\n",
        "Before you begin the lab, you might like to [sign up](https://accounts.google.com/signup) for a free Google account. If you do not wish to sign up for a Google account, that's fine: you will still be able to run the lab in \"sandbox\" mode. You just won't be able save any changes you make.\n",
        "\n",
        "### Colaboratory and Google Drive\n",
        "\n",
        "If you have a Google account, you can mount your Google drive within the Colab environment. This is not required to run the lab. But if you would like to save output you can do so by navigating to `drive/'My Drive'`\n",
        "\n",
        "```\n",
        "from google.colab import drive\n",
        "drive.mount('/content/drive')\n",
        "!ls drive/'My Drive'\n",
        "```\n",
        "\n",
        "If you would like, you can save a copy of this notebook to your local machine or to your Google drive so you can save your output or see any notes you made within the notebook."
      ],
      "metadata": {
        "id": "eHPHsRtxcpFV"
      }
    },
    {
      "cell_type": "code",
      "source": [
        "from google.colab import drive\n",
        "drive.mount('/content/drive')\n",
        "#!ls drive/'My Drive'"
      ],
      "metadata": {
        "colab": {
          "base_uri": "https://localhost:8080/"
        },
        "id": "KIaUQYTkdGC7",
        "outputId": "863bbbbb-9c83-4bba-e10e-b37213942179"
      },
      "execution_count": 1,
      "outputs": [
        {
          "output_type": "stream",
          "name": "stdout",
          "text": [
            "Mounted at /content/drive\n"
          ]
        }
      ]
    },
    {
      "cell_type": "code",
      "execution_count": 2,
      "metadata": {
        "colab": {
          "base_uri": "https://localhost:8080/"
        },
        "id": "NEOD_m9m5ss7",
        "outputId": "460b8396-9b50-4df4-a51d-d803f4117d6e"
      },
      "outputs": [
        {
          "output_type": "stream",
          "name": "stdout",
          "text": [
            "⏬ Downloading https://github.com/conda-forge/miniforge/releases/download/23.1.0-1/Mambaforge-23.1.0-1-Linux-x86_64.sh...\n",
            "📦 Installing...\n",
            "📌 Adjusting configuration...\n",
            "🩹 Patching environment...\n",
            "⏲ Done in 0:00:16\n",
            "🔁 Restarting kernel...\n"
          ]
        }
      ],
      "source": [
        "! pip install -q condacolab\n",
        "import condacolab\n",
        "condacolab.install()"
      ]
    },
    {
      "cell_type": "code",
      "execution_count": 3,
      "metadata": {
        "id": "HIhz4wNz58Pq",
        "colab": {
          "base_uri": "https://localhost:8080/"
        },
        "outputId": "6bdc2436-35b1-48ea-c849-f80ae8f63f9c"
      },
      "outputs": [
        {
          "output_type": "stream",
          "name": "stdout",
          "text": [
            "Preparing transaction: ...working... done\n",
            "Verifying transaction: ...working... done\n",
            "Executing transaction: ...working... done\n"
          ]
        }
      ],
      "source": [
        "! mamba install -q -c conda-forge cartopy"
      ]
    },
    {
      "cell_type": "markdown",
      "metadata": {
        "id": "zOy0yTp080D5"
      },
      "source": [
        "Now let's import libraries."
      ]
    },
    {
      "cell_type": "code",
      "execution_count": 4,
      "metadata": {
        "id": "d_vjHJj1xd5v"
      },
      "outputs": [],
      "source": [
        "import requests\n",
        "import numpy as np\n",
        "import xarray as xr\n",
        "\n",
        "import os\n",
        "import ftplib\n",
        "import cartopy.crs as ccrs\n",
        "import cartopy.feature as cft\n",
        "import cartopy.mpl.geoaxes as cmplgeo\n",
        "import cartopy.mpl.gridliner as cmplgrid\n",
        "import matplotlib.pyplot as plt\n",
        "%matplotlib inline"
      ]
    },
    {
      "cell_type": "markdown",
      "metadata": {
        "id": "0donn3EqM3Mx"
      },
      "source": [
        "### Download the SWOT sample L3 data products\n",
        "\n",
        "\n"
      ]
    },
    {
      "cell_type": "code",
      "source": [
        "def download_file_from_ftp(ftp, filename, target_directory):\n",
        "    try:\n",
        "        local_filepath = os.path.join(target_directory, filename)\n",
        "        with open(local_filepath, 'wb') as file:\n",
        "            ftp.retrbinary('RETR %s' % filename, file.write)\n",
        "            print(f\"Downloaded {filename}\")\n",
        "    except Exception as e:\n",
        "        print(f\"Error downloading {filename}: {e}\")\n",
        "\n",
        "def main_SWOT_L3_basic():\n",
        "    # Set up directories\n",
        "    ftpAVISO = 'ftp-access.aviso.altimetry.fr'\n",
        "    ftp_L3_basic_path = '/data/swot_beta_products/l3_karin_nadir/1day_orbit/basic/alpha_v0_2/'\n",
        "    filename = 'SWOT_L3_LR_SSH_Basic_488_007_20230412T005730_20230412T014836_v0.2.nc'\n",
        "    SWOT_L3_SSH = '/content/drive/My Drive/ColabNotebooks/SWOT_L3_SSH/'  # Replace with the desired directory\n",
        "\n",
        "    try:\n",
        "        # Logging into FTP server using SWOT ST credentials\n",
        "        with ftplib.FTP(ftpAVISO) as ftp:\n",
        "            ftp.login(\"swot_st\", \"swot_st;23\")\n",
        "            ftp.cwd(ftp_L3_basic_path)\n",
        "            print(f\"Connection Established {ftp.getwelcome()}\")\n",
        "\n",
        "            # Check if the file exists in the directory\n",
        "            if filename in ftp.nlst():\n",
        "                download_file_from_ftp(ftp, filename, SWOT_L3_SSH)\n",
        "            else:\n",
        "                print(f\"File {filename} does not exist in the directory.\")\n",
        "    except Exception as e:\n",
        "        print(f\"Error: {e}\")\n",
        "\n",
        "if __name__ == \"__main__\":\n",
        "    main_SWOT_L3_basic()\n",
        "\n",
        "def main_SWOT_L3_expert():\n",
        "    # Set up directories\n",
        "    ftpAVISO = 'ftp-access.aviso.altimetry.fr'\n",
        "    ftp_L3_expert_path = '/data/swot_beta_products/l3_karin_nadir/1day_orbit/expert/alpha_v0_2/'\n",
        "    filename = 'SWOT_L3_LR_SSH_Expert_488_007_20230412T005730_20230412T014836_v0.2.nc'\n",
        "    SWOT_L3_SSH = '/content/drive/My Drive/ColabNotebooks/SWOT_L3_SSH/'  # Replace with the desired directory\n",
        "\n",
        "    try:\n",
        "        # Logging into FTP server using SWOT ST credentials\n",
        "        with ftplib.FTP(ftpAVISO) as ftp:\n",
        "            ftp.login(\"swot_st\", \"swot_st;23\")\n",
        "            ftp.cwd(ftp_L3_expert_path)\n",
        "            print(f\"Connection Established {ftp.getwelcome()}\")\n",
        "\n",
        "            # Check if the file exists in the directory\n",
        "            if filename in ftp.nlst():\n",
        "                download_file_from_ftp(ftp, filename, SWOT_L3_SSH)\n",
        "            else:\n",
        "                print(f\"File {filename} does not exist in the directory.\")\n",
        "    except Exception as e:\n",
        "        print(f\"Error: {e}\")\n",
        "\n",
        "if __name__ == \"__main__\":\n",
        "    main_SWOT_L3_expert()"
      ],
      "metadata": {
        "colab": {
          "base_uri": "https://localhost:8080/"
        },
        "id": "6XvNWj5xWxT0",
        "outputId": "8e705877-be4b-42ce-90b9-dcc5f34eb430"
      },
      "execution_count": 5,
      "outputs": [
        {
          "output_type": "stream",
          "name": "stdout",
          "text": [
            "Connection Established 220 192.168.10.119 FTP server ready\n",
            "Downloaded SWOT_L3_LR_SSH_Basic_488_007_20230412T005730_20230412T014836_v0.2.nc\n",
            "Connection Established 220 192.168.10.119 FTP server ready\n",
            "Downloaded SWOT_L3_LR_SSH_Expert_488_007_20230412T005730_20230412T014836_v0.2.nc\n"
          ]
        }
      ]
    },
    {
      "cell_type": "code",
      "source": [
        "# Set file names\n",
        "half_orbit_basic = os.path.join('/content/drive/My Drive/ColabNotebooks/SWOT_L3_SSH/', \"SWOT_L3_LR_SSH_Basic_488_007_20230412T005730_20230412T014836_v0.2.nc\")\n",
        "half_orbit_expert = os.path.join('/content/drive/My Drive/ColabNotebooks/SWOT_L3_SSH/', \"SWOT_L3_LR_SSH_Expert_488_007_20230412T005730_20230412T014836_v0.2.nc\")"
      ],
      "metadata": {
        "id": "WQw86H9dkiAF"
      },
      "execution_count": 6,
      "outputs": []
    },
    {
      "cell_type": "code",
      "source": [
        "# Select regional boundaries\n",
        "lolabox = [-90, -30, 20, 60] # Gulf Stream"
      ],
      "metadata": {
        "id": "L3TXjQSFV1Tv"
      },
      "execution_count": 7,
      "outputs": []
    },
    {
      "cell_type": "markdown",
      "source": [
        "## Basic product content\n",
        "This product contains two versions of the sea level anomaly (ssha). The ssha_noiseless field is obtained by denoising the ssha field. The mean dynamic topography is also included in order to derive the absolute dynamic topography. Finally, the nadir sea level anomaly has been combined in the KaRIn swath, with the i_num_line and i_num_pixel fields indexing its location in the grid.\n"
      ],
      "metadata": {
        "id": "YPpXONFikAJX"
      }
    },
    {
      "cell_type": "code",
      "source": [
        "ds_basic =  xr.open_dataset(half_orbit_basic)\n",
        "[v for v in ds_basic.variables]"
      ],
      "metadata": {
        "id": "YZGMuJmFkE7T"
      },
      "execution_count": null,
      "outputs": []
    },
    {
      "cell_type": "markdown",
      "source": [
        "## Expert product content\n",
        "This product contains all the Basic fields, and additionnal fields that allows\n",
        "a deeper investigation by Expert users. This includes the corrections used for\n",
        "the SLA and the currents (absolute and relative) computed for the denoised SLA."
      ],
      "metadata": {
        "id": "Q4v6GtRCX-QW"
      }
    },
    {
      "cell_type": "code",
      "execution_count": null,
      "metadata": {
        "id": "aIAuLXBSTm1X"
      },
      "outputs": [],
      "source": [
        "ds_expert = xr.open_dataset(half_orbit_expert)\n",
        "[v for v in ds_expert.variables if v not in ds_basic]\n",
        "ds_expert = ds_expert.assign_coords(longitude=(((ds_expert.longitude + 180) % 360) - 180))\n",
        "\n",
        "# Select data over the region\n",
        "lolasubset = (\n",
        "(ds_expert.longitude > lolabox[0]) &\n",
        "(ds_expert.longitude < lolabox[1]) &\n",
        "(ds_expert.latitude > lolabox[2]) &\n",
        "(ds_expert.latitude < lolabox[3]))\n",
        "\n",
        "ds_expert_sub = ds_expert.where(lolasubset, drop=True)"
      ]
    },
    {
      "cell_type": "markdown",
      "source": [
        "## SWOT nadir data\n",
        "- The nadir data can be extracted from the dataset using the i_num_line and i_num_pixel indexes.\n",
        "\n",
        "- The nadir positions and time are an estimation that combines the swath positions and time with\n",
        "the indexes."
      ],
      "metadata": {
        "id": "s4EECddKMqX1"
      }
    },
    {
      "cell_type": "code",
      "source": [
        "# Build nadir variable\n",
        "ds_expert[\"time_nadir\"] = ds_expert.time[ds_expert.i_num_line]\n",
        "ds_expert[\"longitude_nadir\"] = ds_expert.longitude[ds_expert.i_num_line, ds_expert.i_num_pixel]\n",
        "ds_expert[\"latitude_nadir\"] = ds_expert.latitude[ds_expert.i_num_line, ds_expert.i_num_pixel]\n",
        "ds_expert[\"sla_nadir\"] = ds_expert.ssha[ds_expert.i_num_line, ds_expert.i_num_pixel]\n",
        "\n",
        "# Select nadir data over the region (using num_nadir dimension only)\n",
        "lolasubset_nadir = (\n",
        "(ds_expert.longitude_nadir > lolabox[0]) &\n",
        "(ds_expert.longitude_nadir < lolabox[1]) &\n",
        "(ds_expert.latitude_nadir > lolabox[2]) &\n",
        "(ds_expert.latitude_nadir < lolabox[3]))\n",
        "\n",
        "ds_nadir = ds_expert.drop_dims([\"num_lines\", \"num_pixels\"]).where(lolasubset_nadir, drop=True)"
      ],
      "metadata": {
        "id": "VCZLX1-jMhkJ"
      },
      "execution_count": null,
      "outputs": []
    },
    {
      "cell_type": "markdown",
      "source": [
        "### Visualize the data: basic SLA plots\n",
        "Let's visualize SWOT KaRIn abd Nadir data using cartopy.\n",
        "\n",
        "Adapt this code to visualize other variables or regions, or try importing another file."
      ],
      "metadata": {
        "id": "lZf0XTEJmteU"
      }
    },
    {
      "cell_type": "code",
      "source": [
        "# set figure\n",
        "fig, (ax1, ax2) = plt.subplots(1, 2, figsize=(21, 12), subplot_kw=dict(projection=ccrs.PlateCarree()))\n",
        "ax1.set_extent(lolabox)\n",
        "ax2.set_extent(lolabox)\n",
        "plot_kwargs = dict(\n",
        "    x=\"longitude\",\n",
        "    y=\"latitude\",\n",
        "    cmap=\"Spectral_r\",\n",
        "    vmin=-0.2,\n",
        "    vmax=0.2,\n",
        "    cbar_kwargs={\"shrink\": 0.3},)\n",
        "\n",
        "# SWOT KaRIn SLA plots\n",
        "ds_expert_sub.ssha.plot.pcolormesh(ax=ax1, **plot_kwargs)\n",
        "ds_expert_sub.ssha_noiseless.plot.pcolormesh(ax=ax2, **plot_kwargs)\n",
        "#\n",
        "ax1.coastlines()\n",
        "ax1.gridlines()\n",
        "ax2.coastlines()\n",
        "ax2.gridlines()"
      ],
      "metadata": {
        "id": "KQebq4SCmtES"
      },
      "execution_count": null,
      "outputs": []
    },
    {
      "cell_type": "markdown",
      "source": [
        "Let's plot SWOT Nadir data only using cartopy."
      ],
      "metadata": {
        "id": "0ydHJx2nGzBX"
      }
    },
    {
      "cell_type": "code",
      "source": [
        "plt.plot(ds_nadir.latitude_nadir.values, ds_nadir.sla_nadir.values)\n",
        "plt.ylabel(f'{ds_nadir.sla_nadir.attrs[\"standard_name\"]} [{ds_nadir.sla_nadir.attrs[\"units\"]}]')\n",
        "plt.xlabel(f'{ds_nadir.latitude_nadir.attrs[\"standard_name\"]} [{ds_nadir.latitude_nadir.attrs[\"units\"]}]')"
      ],
      "metadata": {
        "id": "5ldcL6g-GzJC"
      },
      "execution_count": null,
      "outputs": []
    },
    {
      "cell_type": "markdown",
      "source": [
        "## Remove nadir data from L3 data set\n",
        "It is possible to remove the nadir data combined with L3 KaRIn data."
      ],
      "metadata": {
        "id": "81hfLKJLQArP"
      }
    },
    {
      "cell_type": "code",
      "source": [
        "# Masking must be done prior regional subsetting\n",
        "ssha = ds_expert.ssha\n",
        "ssha[ds_expert.i_num_line, ds_expert.i_num_pixel] = np.nan\n",
        "\n",
        "# Regional subsetting\n",
        "ssha_area = ssha.where(lolasubset, drop=True)\n",
        "\n",
        "# plot SLA KaRIn data only\n",
        "del plot_kwargs[\"cbar_kwargs\"]\n",
        "mesh = ssha_area.plot.pcolormesh(\n",
        "figsize=(8, 8),\n",
        "subplot_kws=dict(projection=ccrs.PlateCarree()),\n",
        "**plot_kwargs)\n",
        "mesh.axes.coastlines()"
      ],
      "metadata": {
        "id": "oE_DnM-kQA5g"
      },
      "execution_count": null,
      "outputs": []
    }
  ],
  "metadata": {
    "colab": {
      "provenance": [],
      "include_colab_link": true
    },
    "kernelspec": {
      "display_name": "Python 3",
      "name": "python3"
    },
    "language_info": {
      "name": "python"
    }
  },
  "nbformat": 4,
  "nbformat_minor": 0
}
